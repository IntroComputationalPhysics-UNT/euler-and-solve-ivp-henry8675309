{
  "cells": [
    {
      "cell_type": "markdown",
      "source": [
        "## Plotting solutions to the rigid pendulum problem\n",
        "\n",
        "In this assignment, we explore the solution to the undriven rigid pendulum using: the Euler code we wrote in class, and the `scipy.integrate` package.\n",
        "\n",
        "In this assignemnt, please use $\\omega_0 = 1$ and $I=1$, and $0\\le t \\le 100$.\n",
        "\n",
        "----\n",
        "\n",
        "**Additional information:**\n",
        "\n",
        "We will use two different initial conditions:\n",
        "* $\\theta = \\pi$ and $\\frac{d\\theta}{dt} = 0$, and\n",
        "* $\\theta = 0$ and $\\frac{d\\theta}{dt} = 2$.\n",
        "\n",
        "**Temporal evolution of $\\theta$:** for plots of $\\theta$ versus $t$, include the following plotting options:\n",
        "* `plt.figure(figsize=(10,2))`\n",
        "* `plt.xlim([0, 100]) # time`\n",
        "* `plt.ylim([- 5 * np.pi - 0.5, 5 * np.pi + 0.5]) # theta`\n",
        "* Add axes labels and a legend\n",
        "\n",
        "**Phase portraits:** for plots of $d\\theta/dt$ versus $\\theta$, include the following plotting options:\n",
        "* `plt.figure(figsize=(12,3))`\n",
        "* `plt.xlim([- 5 * np.pi - 0.5, 5 * np.pi + 0.5]) # theta`\n",
        "* `plt.ylim([-  np.pi - 0.5,  np.pi + 0.5]) # angular velocity`\n",
        "* Add axes labels and a legend\n",
        "\n",
        "**Constant energy curves:** for contour plots of the energy, include the following plotting options:\n",
        "* `plt.figure(figsize=(11,3))`\n",
        "* `plt.xlim([- 5 * np.pi - 0.5, 5 * np.pi + 0.5]) # theta`\n",
        "* `plt.ylim([-  np.pi - 0.5,  np.pi + 0.5]) # angular velocity`\n",
        "* Add axes labels and a legend\n"
      ],
      "metadata": {
        "id": "BjsgxRzQ8TsB"
      }
    },
    {
      "cell_type": "markdown",
      "source": [
        "## **Problem 1:**\n",
        "\n",
        "Apply the Euler code we wrote in class to the rigid pendulum defined by $\\ddot{\\theta} + \\omega_0^2 sin(\\theta)=0$.\n",
        "\n",
        "1. **[Text cell]:** Create a text cell with organized pseudocode.\n",
        "2. **[Code cell(s)]:** For `theta_0 = math.pi`, and `ang_vel_0 = 0`, plot the temporal evolution of $\\theta$.\n",
        "3. **[Code cell(s)]:** For `theta_0 = 0`, and `ang_vel_0 = 2`, plot the temporal evolution of $\\theta$ **_and_** the phase portrait.\n",
        "4. **[Text cell]:** You will need to compare the simple Euler and symplectic/semi-implicit Euler methods and adjust mesh density to find sensible results. Explain your choice."
      ],
      "metadata": {
        "id": "M9V7_M7h36An"
      }
    },
    {
      "cell_type": "code",
      "source": [
        "# problem 1 beep boop bop" 
      ],
      "metadata": {
        "id": "jUVJdN6_4mxW"
      },
      "execution_count": null,
      "outputs": []
    },
    {
      "cell_type": "markdown",
      "source": [
        "## **Problem 2:**\n",
        "\n",
        "Use `scipy.integrate` and `solve_ivp` to solve the same problem. You'll need to settle on a solver and on tolerances to get physically meaningful results.\n",
        "\n",
        "1. **[Text cell]:** Include a text cell with organized pseudocode.\n",
        "2. **[Code cell(s)]:** For `theta_0 = math.pi`, and `ang_vel_0 = 0`, plot the temporal evolution of $\\theta$.\n",
        "3. **[Code cell(s)]:** For `theta_0 = 0`, and `ang_vel_0 = 2`, plot the temporal evolution of $\\theta$ **_and_** the phase portrait.\n",
        "4. **[Text cell]:** You will need to choose a solver and tolerances to see sensible results. Use `help(solve_ivp)` or `solve_ivp?` to explore these options. Explain your choice.\n",
        "\n"
      ],
      "metadata": {
        "id": "1MxhS_yQ3_Ie"
      }
    },
    {
      "cell_type": "code",
      "source": [
        "# problem 2"
      ],
      "metadata": {
        "id": "3lKzIEhP4nk9"
      },
      "execution_count": null,
      "outputs": []
    },
    {
      "cell_type": "markdown",
      "source": [
        "## **Problem 3:**\n",
        "\n",
        "Debug and edit the code cell included below to plot the phase portrait on constant energy curves.\n",
        "\n",
        "1. **[Code cell(s)]:** Debug the code cell below. Incorporate the details from the **_Constant energy curves_** item in the introduction. Add a comment at the end of each line explaining what that line does.\n",
        "2. **[Code cell(s)]:** Combine the energy contours with your `theta_0 = 0`; `ang_vel_0=2` solution.\n",
        "3. **[Text cell]:** Comment on the result.\n"
      ],
      "metadata": {
        "id": "wgJVIxF-4Dvt"
      }
    },
    {
      "cell_type": "code",
      "source": [
        "import numpy as np\n",
        "import matplotlib.piplot as plt\n",
        "\n",
        "def rigid_pendulum_energy(theta, ang_vel, omega_0=1, moment_of_inertia=1)\n",
        "  energy = 0.5 * moment_of_inertia * ang_vel ** 2 + moment_of_inerti * omega_0 ** 2 * (1-np.cos(theta))\n",
        "return energy\n",
        "\n",
        "theta_list = np.linspace(-5 * np.pi, 5 * np.pi, 300)\n",
        "ang_vel_list = np.linspace(- np.pi,  np.pi, 100)\n",
        "theta_mesh, ang_vel_mesh = np.meshgrid(theta_list, ang_vel_list)\n",
        "energy_mesh = rigid_pendulum_energy(theta_mesh, ang_vel_mesh)\n",
        "low_levels = np.linespace(0, 2, 5, endpoint=False)\n",
        "high_levels = np.linspace(2, energy_mesh.max(), 15)\n",
        "levels = np.concatenate((low_levels, high_levels))\n",
        "\n",
        "x_lim = [-5 * np.pi - 0.5, 5 * np.pi + 0.5]\n",
        "y_lim = [- np.pi - 0.5, np.pi + 0.5]\n",
        "x_ticks = np.pi * [-4, -2, 0, 2, 4]\n",
        "x_tick_labels = ['$-4\\\\pi$', '$-2\\\\pi$', '$0$', '$2\\\\pi$', '$4\\\\pi$']\n",
        "plt.figure(figsize={12, 3})\n",
        "contours = plt.contourf(theta_mesh, ang_vel_mesh, energy_mesh, levels=30, cmap='viridis')\n",
        "plt.contour(theta_mesh, ang_vel_mesh, energy_mesh, levels=levels, colors='white', linewidths=0.5)\n",
        "# plt.plot(theta_plot[0], ang_vel_plot[1], label='rigid pendulum', color='red', linewidth=0.5)\n",
        "plt.colorbar(contours., label='energy')\n",
        "plt.xlabel('$\\\\theta$')\n",
        "plt.ylabel('$d\\\\theta/dt$')\n",
        "plt.xticks(x_ticks, x_tick_labels)\n",
        "plt.yticks(range(-3,4,1))\n",
        "plt.xlim(x_lim)\n",
        "plt.ylim(y_lim)\n",
        "plt.show()"
      ],
      "metadata": {
        "collapsed": true,
        "id": "w3uYtfPA4Fp1"
      },
      "execution_count": null,
      "outputs": []
    },
    {
      "cell_type": "code",
      "source": [],
      "metadata": {
        "id": "PaGXOB1O8fxb"
      },
      "execution_count": null,
      "outputs": []
    }
  ],
  "metadata": {
    "colab": {
      "provenance": []
    },
    "kernelspec": {
      "display_name": "Python 3",
      "name": "python3"
    }
  },
  "nbformat": 4,
  "nbformat_minor": 0
}
